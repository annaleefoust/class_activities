{
 "cells": [
  {
   "cell_type": "code",
   "execution_count": null,
   "id": "e0a375e9-cf5f-43cd-b02d-4052af09f1fa",
   "metadata": {},
   "outputs": [],
   "source": [
    "import pandas as pd\n",
    "data = pd.read_excel(r'/Users/annaleefoust/Downloads/commerce_data.xlsx')"
   ]
  },
  {
   "cell_type": "code",
   "execution_count": null,
   "id": "28678303-188b-4b7e-95c6-0da832e3db2b",
   "metadata": {},
   "outputs": [],
   "source": [
    "data['discount'] = data['discount'].fillna(0)"
   ]
  },
  {
   "cell_type": "code",
   "execution_count": null,
   "id": "75e2fe27-abd9-4506-a284-e4b7b32d068c",
   "metadata": {},
   "outputs": [],
   "source": [
    "sales_category = []\n",
    "\n",
    "for i in range(len(data)):\n",
    "    if int(data['sales'][i])> 10000:\n",
    "        sales_category.append(\"good\")\n",
    "    else:\n",
    "        sales_category.append(\"bad\")\n",
    "\n",
    "data['sales_category'] = sales_category"
   ]
  },
  {
   "cell_type": "code",
   "execution_count": 15,
   "id": "4a626401-302f-44e9-90cd-56f8526325c9",
   "metadata": {},
   "outputs": [],
   "source": [
    "import numpy as np\n",
    "import pandas as pd\n",
    "import sklearn.svm as svm\n",
    "from sklearn.model_selection import train_test_split\n",
    "from sklearn.preprocessing import LabelEncoder\n",
    "from sklearn.linear_model import LogisticRegression\n",
    "from sklearn.metrics import accuracy_score"
   ]
  },
  {
   "cell_type": "code",
   "execution_count": 16,
   "id": "a4f320f6-d788-4ea0-a861-ef6f17803df2",
   "metadata": {},
   "outputs": [],
   "source": [
    "encoder = LabelEncoder()\n",
    "encoder.fit(data['sales_category'])\n",
    "data['sales_output'] = encoder.transform(data['sales_category'])"
   ]
  },
  {
   "cell_type": "code",
   "execution_count": 17,
   "id": "263e3c0c-b742-4db1-b8ae-babd3203e67f",
   "metadata": {},
   "outputs": [],
   "source": [
    "y = data['sales_output']\n",
    "X = data[['discount', 'likes']]\n",
    "X_train, X_test, y_train, y_test = train_test_split(X, y, test_size=0.3, random_state= 42, shuffle = True)"
   ]
  },
  {
   "cell_type": "code",
   "execution_count": null,
   "id": "d71cef1b-c2db-48af-ba66-19114386c483",
   "metadata": {},
   "outputs": [],
   "source": [
    "svm_model = svm.SVC(kernel= 'linear')\n",
    "svm_model.fit(X_train, y_train)"
   ]
  },
  {
   "cell_type": "code",
   "execution_count": null,
   "id": "ae148103-d8ec-4dcb-bea2-f371c7cf7933",
   "metadata": {},
   "outputs": [],
   "source": [
    "y_pred = svm_model.predict(X_test)"
   ]
  },
  {
   "cell_type": "code",
   "execution_count": null,
   "id": "72e60c88-9291-408f-8d4e-4b69f5809887",
   "metadata": {},
   "outputs": [],
   "source": [
    "accuracy = accuracy_score(y_test, y_pred)"
   ]
  },
  {
   "cell_type": "code",
   "execution_count": null,
   "id": "7dcb3eae-2c34-42cb-acd0-9dfb060e26c3",
   "metadata": {},
   "outputs": [],
   "source": [
    "print(f\"Accuracy: {accuracy:.3f}\")"
   ]
  },
  {
   "cell_type": "code",
   "execution_count": null,
   "id": "be701940-8925-4e21-bfc3-7c2065327b06",
   "metadata": {},
   "outputs": [],
   "source": []
  }
 ],
 "metadata": {
  "kernelspec": {
   "display_name": "Python [conda env:base] *",
   "language": "python",
   "name": "conda-base-py"
  },
  "language_info": {
   "codemirror_mode": {
    "name": "ipython",
    "version": 3
   },
   "file_extension": ".py",
   "mimetype": "text/x-python",
   "name": "python",
   "nbconvert_exporter": "python",
   "pygments_lexer": "ipython3",
   "version": "3.12.7"
  }
 },
 "nbformat": 4,
 "nbformat_minor": 5
}
